{
 "cells": [
  {
   "cell_type": "code",
   "execution_count": 1,
   "id": "54ce7130",
   "metadata": {},
   "outputs": [
    {
     "ename": "ModuleNotFoundError",
     "evalue": "No module named 'matplotlib'",
     "output_type": "error",
     "traceback": [
      "\u001b[0;31m---------------------------------------------------------------------------\u001b[0m",
      "\u001b[0;31mModuleNotFoundError\u001b[0m                       Traceback (most recent call last)",
      "Cell \u001b[0;32mIn[1], line 1\u001b[0m\n\u001b[0;32m----> 1\u001b[0m \u001b[38;5;28;01mimport\u001b[39;00m\u001b[38;5;250m \u001b[39m\u001b[38;5;21;01mmatplotlib\u001b[39;00m\u001b[38;5;250m \u001b[39m\u001b[38;5;28;01mas\u001b[39;00m\u001b[38;5;250m \u001b[39m\u001b[38;5;21;01mplt\u001b[39;00m\n\u001b[1;32m      2\u001b[0m \u001b[38;5;28;01mimport\u001b[39;00m\u001b[38;5;250m \u001b[39m\u001b[38;5;21;01mpandas\u001b[39;00m\u001b[38;5;250m \u001b[39m\u001b[38;5;28;01mas\u001b[39;00m\u001b[38;5;250m \u001b[39m\u001b[38;5;21;01mpd\u001b[39;00m\n\u001b[1;32m      3\u001b[0m \u001b[38;5;28;01mimport\u001b[39;00m\u001b[38;5;250m \u001b[39m\u001b[38;5;21;01mnumpy\u001b[39;00m\u001b[38;5;250m \u001b[39m\u001b[38;5;28;01mas\u001b[39;00m\u001b[38;5;250m \u001b[39m\u001b[38;5;21;01mnp\u001b[39;00m\n",
      "\u001b[0;31mModuleNotFoundError\u001b[0m: No module named 'matplotlib'"
     ]
    }
   ],
   "source": [
    "import matplotlib as plt\n",
    "import pandas as pd\n",
    "import numpy as np"
   ]
  },
  {
   "cell_type": "code",
   "execution_count": 2,
   "id": "cada6285",
   "metadata": {},
   "outputs": [
    {
     "ename": "ModuleNotFoundError",
     "evalue": "No module named 'pandas'",
     "output_type": "error",
     "traceback": [
      "\u001b[0;31m---------------------------------------------------------------------------\u001b[0m",
      "\u001b[0;31mModuleNotFoundError\u001b[0m                       Traceback (most recent call last)",
      "Cell \u001b[0;32mIn[2], line 1\u001b[0m\n\u001b[0;32m----> 1\u001b[0m \u001b[38;5;28;01mimport\u001b[39;00m\u001b[38;5;250m \u001b[39m\u001b[38;5;21;01mpandas\u001b[39;00m\u001b[38;5;250m \u001b[39m\u001b[38;5;28;01mas\u001b[39;00m\u001b[38;5;250m \u001b[39m\u001b[38;5;21;01mpd\u001b[39;00m\n\u001b[1;32m      2\u001b[0m \u001b[38;5;28;01mimport\u001b[39;00m\u001b[38;5;250m \u001b[39m\u001b[38;5;21;01mmatplotlib\u001b[39;00m\u001b[38;5;21;01m.\u001b[39;00m\u001b[38;5;21;01mpyplot\u001b[39;00m\u001b[38;5;250m \u001b[39m\u001b[38;5;28;01mas\u001b[39;00m\u001b[38;5;250m \u001b[39m\u001b[38;5;21;01mplt\u001b[39;00m\n\u001b[1;32m      4\u001b[0m \u001b[38;5;66;03m# Distance data (in feet)\u001b[39;00m\n",
      "\u001b[0;31mModuleNotFoundError\u001b[0m: No module named 'pandas'"
     ]
    }
   ],
   "source": [
    "import pandas as pd\n",
    "import matplotlib.pyplot as plt\n",
    "\n",
    "# Distance data (in feet)\n",
    "locations = {\n",
    "    \"ECE Parking Lot\": 100,\n",
    "    \"Werblin Bus Stop\": 1000,\n",
    "    \"Athletic Parking Lot\": 1700,\n",
    "    \"SHI STADIUM\": 3000\n",
    "}\n",
    "\n",
    "# Data for each location\n",
    "data = {\n",
    "    \"ECE Parking Lot\": {\n",
    "        \"Payload Size\": [4, 16, 32, 48, 64, 80, 96, 112, 128],\n",
    "        \"Throughput\": [16.250, 47.727, 101.770, 135.127, 163.560, 185.117, 205.143, 222.507, 209.350],\n",
    "        \"Latency\": [0.246, 0.375, 0.314, 0.355, 0.391, 0.432, 0.468, 0.503, 0.634]\n",
    "    },\n",
    "    \"Werblin Bus Stop\": {\n",
    "        \"Payload Size\": [4, 16, 32, 48, 64, 80, 96, 112, 128],\n",
    "        \"Throughput\": [16.217, 57.503, 80.447, 135.150, 163.617, 185.077, 205.100, 222.530, 235.520],\n",
    "        \"Latency\": [0.247, 0.278, 0.493, 0.355, 0.391, 0.432, 0.468, 0.503, 0.543]\n",
    "    },\n",
    "    \"Athletic Parking Lot\": {\n",
    "        \"Payload Size\": [4, 16, 32, 48, 64, 80, 96, 112, 128],\n",
    "        \"Throughput\": [16.260, 57.470, 101.890, 118.080, 132.863, 185.210, 205.070, 222.577, 235.597],\n",
    "        \"Latency\": [0.246, 0.278, 0.314, 0.427, 0.558, 0.432, 0.468, 0.503, 0.543]\n",
    "    },\n",
    "    \"SHI STADIUM\": {\n",
    "        \"Payload Size\": [4, 16, 32, 48, 64, 80, 96, 112, 128],\n",
    "        \"Throughput\": [14.313, 48.563, 101.903, 116.607, 163.587, 185.033, 205.097, 198.710, 235.570],\n",
    "        \"Latency\": [0.292, 0.358, 0.314, 0.438, 0.391, 0.432, 0.468, 0.583, 0.543]\n",
    "    }\n",
    "}\n",
    "\n",
    "# Extracting max throughput and min latency\n",
    "distance = []\n",
    "max_throughput = []\n",
    "min_latency = []\n",
    "\n",
    "for location, stats in data.items():\n",
    "    distance.append(locations[location])\n",
    "    max_throughput.append(max(stats[\"Throughput\"]))\n",
    "    min_latency.append(min(stats[\"Latency\"]))\n",
    "\n",
    "# Plotting\n",
    "plt.figure(figsize=(10, 6))\n",
    "\n",
    "plt.plot(distance, max_throughput, marker='o', label=\"Max Throughput (bytes/sec)\")\n",
    "plt.plot(distance, min_latency, marker='s', label=\"Min Latency (sec/packet)\")\n",
    "\n",
    "plt.title(\"Distance vs Max Throughput and Min Latency\")\n",
    "plt.xlabel(\"Distance (feet)\")\n",
    "plt.ylabel(\"Values\")\n",
    "plt.legend()\n",
    "plt.grid(True)\n",
    "plt.tight_layout()\n",
    "plt.show()\n"
   ]
  },
  {
   "cell_type": "code",
   "execution_count": null,
   "id": "e26e3108",
   "metadata": {},
   "outputs": [],
   "source": [
    "# Re-plot with hardcoded axis limits\n",
    "plt.figure(figsize=(8, 8))  # 1:1 aspect ratio\n",
    "\n",
    "x = df.groupby(\"Payload Size\")[\"Payload Size\"].first()\n",
    "y = df.groupby(\"Payload Size\")[\"Throughput\"].mean()\n",
    "z = np.polyfit(x, y, 2)\n",
    "p = np.poly1d(z)\n",
    "\n",
    "plt.plot(x, y, 'bo', label='Avg Throughput')\n",
    "plt.plot(x, p(x), 'b--', label='Quadratic Fit')\n",
    "plt.title(\"Throughput vs Payload Size with Fit (0–150 bytes)\")\n",
    "plt.xlabel(\"Payload Size (bytes)\")\n",
    "plt.ylabel(\"Avg Throughput (bytes/sec)\")\n",
    "plt.grid(True)\n",
    "plt.legend()\n",
    "plt.axis('equal')\n",
    "plt.xlim(0, 150)\n",
    "plt.ylim(0, max(p(x)) + 20)\n",
    "plt.tight_layout()\n",
    "plt.show()\n"
   ]
  }
 ],
 "metadata": {
  "kernelspec": {
   "display_name": "capstone",
   "language": "python",
   "name": "python3"
  },
  "language_info": {
   "codemirror_mode": {
    "name": "ipython",
    "version": 3
   },
   "file_extension": ".py",
   "mimetype": "text/x-python",
   "name": "python",
   "nbconvert_exporter": "python",
   "pygments_lexer": "ipython3",
   "version": "3.10.12"
  }
 },
 "nbformat": 4,
 "nbformat_minor": 5
}
